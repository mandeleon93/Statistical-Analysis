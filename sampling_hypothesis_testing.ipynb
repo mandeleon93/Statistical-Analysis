{
 "cells": [
  {
   "cell_type": "markdown",
   "metadata": {},
   "source": [
    "# Introduction\n",
    "\n",
    "Collection of fundamental statistical methods and tests for quick access. Contents are derived from lecture notebooks prepared by Prof. Felix Valenzuela, simplified and generalized into useful functions for basic statistical analysis. Test inputs are based on sample data in order for the code to run."
   ]
  },
  {
   "cell_type": "code",
   "execution_count": 190,
   "metadata": {
    "ExecuteTime": {
     "end_time": "2020-05-23T16:07:30.108190Z",
     "start_time": "2020-05-23T16:07:30.100168Z"
    }
   },
   "outputs": [],
   "source": [
    "# Preliminaries\n",
    "import numpy as np\n",
    "import pandas as pd\n",
    "import powerlaw as pw\n",
    "import seaborn as sns\n",
    "import scipy.stats as stats\n",
    "import statsmodels as sm\n",
    "import matplotlib.pyplot as plt\n",
    "import random\n",
    "\n",
    "from sklearn import datasets\n",
    "import scipy as sp\n",
    "\n",
    "from scipy.stats import binom_test\n",
    "from scipy.stats import norm as gaussian\n",
    "\n",
    "from scipy.stats import t\n",
    "from scipy.stats import ttest_1samp\n",
    "from scipy.stats import f_oneway\n",
    "from statsmodels.stats.multicomp import pairwise_tukeyhsd\n",
    "from scipy.stats import levene\n",
    "\n",
    "%matplotlib inline"
   ]
  },
  {
   "cell_type": "markdown",
   "metadata": {},
   "source": [
    "# Load Sample Data"
   ]
  },
  {
   "cell_type": "code",
   "execution_count": 124,
   "metadata": {
    "ExecuteTime": {
     "end_time": "2020-05-23T14:56:44.534028Z",
     "start_time": "2020-05-23T14:56:44.520020Z"
    }
   },
   "outputs": [
    {
     "data": {
      "text/html": [
       "<div>\n",
       "<style scoped>\n",
       "    .dataframe tbody tr th:only-of-type {\n",
       "        vertical-align: middle;\n",
       "    }\n",
       "\n",
       "    .dataframe tbody tr th {\n",
       "        vertical-align: top;\n",
       "    }\n",
       "\n",
       "    .dataframe thead th {\n",
       "        text-align: right;\n",
       "    }\n",
       "</style>\n",
       "<table border=\"1\" class=\"dataframe\">\n",
       "  <thead>\n",
       "    <tr style=\"text-align: right;\">\n",
       "      <th></th>\n",
       "      <th>age</th>\n",
       "      <th>brexit</th>\n",
       "    </tr>\n",
       "  </thead>\n",
       "  <tbody>\n",
       "    <tr>\n",
       "      <th>0</th>\n",
       "      <td>37</td>\n",
       "      <td>1</td>\n",
       "    </tr>\n",
       "    <tr>\n",
       "      <th>1</th>\n",
       "      <td>55</td>\n",
       "      <td>1</td>\n",
       "    </tr>\n",
       "    <tr>\n",
       "      <th>2</th>\n",
       "      <td>37</td>\n",
       "      <td>1</td>\n",
       "    </tr>\n",
       "    <tr>\n",
       "      <th>3</th>\n",
       "      <td>42</td>\n",
       "      <td>1</td>\n",
       "    </tr>\n",
       "    <tr>\n",
       "      <th>4</th>\n",
       "      <td>69</td>\n",
       "      <td>1</td>\n",
       "    </tr>\n",
       "  </tbody>\n",
       "</table>\n",
       "</div>"
      ],
      "text/plain": [
       "   age  brexit\n",
       "0   37       1\n",
       "1   55       1\n",
       "2   37       1\n",
       "3   42       1\n",
       "4   69       1"
      ]
     },
     "execution_count": 124,
     "metadata": {},
     "output_type": "execute_result"
    }
   ],
   "source": [
    "df = pd.read_csv('remain_leave.csv')\n",
    "df.head()"
   ]
  },
  {
   "cell_type": "markdown",
   "metadata": {},
   "source": [
    "## Random Sampling from Empirical Distribution"
   ]
  },
  {
   "cell_type": "code",
   "execution_count": 125,
   "metadata": {
    "ExecuteTime": {
     "end_time": "2020-05-23T14:56:44.865098Z",
     "start_time": "2020-05-23T14:56:44.860146Z"
    }
   },
   "outputs": [],
   "source": [
    "# Random number generator for an empirical distribution.\n",
    "def empirical_rvs(X, N=1000):\n",
    "    \"\"\"\n",
    "    Generates a distribution of values similar to input X.\n",
    "    \n",
    "    Parameters\n",
    "    ----------\n",
    "    X : numpy array\n",
    "    \n",
    "    N : int\n",
    "        number of times to randomly sample\n",
    "    \"\"\"\n",
    "    # Generate N random numbers between 0 and 1\n",
    "    prob = np.random.rand(N)\n",
    "    # Form the empirical data ppf. We can use scipy.stats.mstats.mquantiles for this.\n",
    "    eppf = stats.mstats.mquantiles(X, prob)\n",
    "    return eppf"
   ]
  },
  {
   "cell_type": "code",
   "execution_count": 126,
   "metadata": {
    "ExecuteTime": {
     "end_time": "2020-05-23T14:56:45.202000Z",
     "start_time": "2020-05-23T14:56:45.030418Z"
    }
   },
   "outputs": [
    {
     "data": {
      "text/plain": [
       "(array([144., 105., 136., 105., 114., 124., 134.,  87.,  41.,  10.]),\n",
       " array([18. , 25.4, 32.8, 40.2, 47.6, 55. , 62.4, 69.8, 77.2, 84.6, 92. ]),\n",
       " <a list of 10 Patch objects>)"
      ]
     },
     "execution_count": 126,
     "metadata": {},
     "output_type": "execute_result"
    },
    {
     "data": {
      "image/png": "[encoded data removed]",
      "text/plain": [
       "<Figure size 432x288 with 1 Axes>"
      ]
     },
     "metadata": {
      "needs_background": "light"
     },
     "output_type": "display_data"
    }
   ],
   "source": [
    "plt.hist(empirical_rvs(df['age']))"
   ]
  },
  {
   "cell_type": "markdown",
   "metadata": {},
   "source": [
    "# Statistical Tests"
   ]
  },
  {
   "cell_type": "markdown",
   "metadata": {},
   "source": [
    "## Binomial"
   ]
  },
  {
   "cell_type": "code",
   "execution_count": 127,
   "metadata": {
    "ExecuteTime": {
     "end_time": "2020-05-23T14:56:45.606617Z",
     "start_time": "2020-05-23T14:56:45.590501Z"
    }
   },
   "outputs": [],
   "source": [
    "def binomial_test(df, target, p=0.5):\n",
    "    \n",
    "    classes = df[target].unique()\n",
    "    dict_class = {}\n",
    "\n",
    "    for item in classes:\n",
    "        dict_class[item] = df[df[target]==item]\n",
    "\n",
    "    sns.countplot(df[target])\n",
    "\n",
    "    # One-Sided: Null hypothesis is that the \"1\" fraction is less than half of the population\n",
    "    result1 = (binom_test(x=len(dict_class[classes[0]]), \n",
    "                         n = len(dict_class[classes[0]]) + len(dict_class[classes[1]]), \n",
    "                         p=p, alternative=\"greater\"))\n",
    "    \n",
    "    # Two-Sided: Null hypothesis is that the \"1\" fraction is equal to half of the population\n",
    "    result2 = (binom_test(x=len(dict_class[1]), \n",
    "                          n = len(dict_class[classes[0]]) + len(dict_class[classes[1]]),\n",
    "                          p = p, alternative=\"two-sided\"))\n",
    "    \n",
    "    print('one-sided result:', result1)\n",
    "    print('two-sided result:', result2)"
   ]
  },
  {
   "cell_type": "code",
   "execution_count": 128,
   "metadata": {
    "ExecuteTime": {
     "end_time": "2020-05-23T14:56:45.930722Z",
     "start_time": "2020-05-23T14:56:45.809371Z"
    }
   },
   "outputs": [
    {
     "name": "stdout",
     "output_type": "stream",
     "text": [
      "one-sided result: 7.08322657495753e-11\n",
      "two-sided result: 1.416645314991506e-10\n"
     ]
    },
    {
     "data": {
      "image/png": "[encoded data removed]",
      "text/plain": [
       "<Figure size 432x288 with 1 Axes>"
      ]
     },
     "metadata": {
      "needs_background": "light"
     },
     "output_type": "display_data"
    }
   ],
   "source": [
    "binomial_test(df, 'brexit')"
   ]
  },
  {
   "cell_type": "code",
   "execution_count": 129,
   "metadata": {
    "ExecuteTime": {
     "end_time": "2020-05-23T14:56:46.102439Z",
     "start_time": "2020-05-23T14:56:46.095452Z"
    }
   },
   "outputs": [],
   "source": [
    "def z_test(df, target, q=0.5):\n",
    "    \n",
    "    classes = df[target].unique()\n",
    "    dict_class = {}\n",
    "\n",
    "    for item in classes:\n",
    "        dict_class[item] = df[df[target]==item]\n",
    "    \n",
    "    sns.countplot(df[target])\n",
    "    \n",
    "    N = len(dict_class[classes[0]]) + len(dict_class[classes[1]])\n",
    "    q_hat = len(dict_class[classes[0]]) / (len(dict_class[classes[0]]) + len(dict_class[classes[1]]))\n",
    "    se_qhat = np.sqrt(q * (1.0 - q) / N)\n",
    "    z_score = (q_hat - q) / se_qhat\n",
    "    \n",
    "    # Calculate the p-value using the survival (ccdf) function of the Gaussian distribution:\n",
    "    p_1side = gaussian.sf(z_score)\n",
    "    print('one-sided result:', p_1side)"
   ]
  },
  {
   "cell_type": "code",
   "execution_count": 130,
   "metadata": {
    "ExecuteTime": {
     "end_time": "2020-05-23T14:56:46.591926Z",
     "start_time": "2020-05-23T14:56:46.479713Z"
    }
   },
   "outputs": [
    {
     "name": "stdout",
     "output_type": "stream",
     "text": [
      "one-sided result: 6.580718753119375e-11\n"
     ]
    },
    {
     "data": {
      "image/png": "[encoded data removed]",
      "text/plain": [
       "<Figure size 432x288 with 1 Axes>"
      ]
     },
     "metadata": {
      "needs_background": "light"
     },
     "output_type": "display_data"
    }
   ],
   "source": [
    "z_test(df, 'brexit')"
   ]
  },
  {
   "cell_type": "markdown",
   "metadata": {},
   "source": [
    "## Mean of a sample"
   ]
  },
  {
   "cell_type": "code",
   "execution_count": 131,
   "metadata": {
    "ExecuteTime": {
     "end_time": "2020-05-23T14:56:47.499035Z",
     "start_time": "2020-05-23T14:56:47.494840Z"
    }
   },
   "outputs": [],
   "source": [
    "def t_test(df, feature, value):\n",
    "\n",
    "    out = df[feature]\n",
    "    print (\"Count:\", len(out))\n",
    "    print (\"Average of feature:\", np.mean(out))\n",
    "\n",
    "    t, pval = ttest_1samp(out, value)\n",
    "    print (\"Test statistic:\", t, \"P<t:\", pval/2.0)\n",
    "    print(\"P>t:\", 1 - pval/2.0)"
   ]
  },
  {
   "cell_type": "code",
   "execution_count": 132,
   "metadata": {
    "ExecuteTime": {
     "end_time": "2020-05-23T14:56:48.071785Z",
     "start_time": "2020-05-23T14:56:48.066799Z"
    }
   },
   "outputs": [
    {
     "name": "stdout",
     "output_type": "stream",
     "text": [
      "Count: 1315\n",
      "Average of feature: 49.53764258555133\n",
      "Test statistic: 5.075923338002219 P<t: 2.2050929271708034e-07\n",
      "P>t: 0.9999997794907073\n"
     ]
    }
   ],
   "source": [
    "t_test(df, 'age', 47)"
   ]
  },
  {
   "cell_type": "markdown",
   "metadata": {},
   "source": [
    "# Test Between Two Population Means\n"
   ]
  },
  {
   "cell_type": "code",
   "execution_count": 133,
   "metadata": {
    "ExecuteTime": {
     "end_time": "2020-05-23T14:56:48.967945Z",
     "start_time": "2020-05-23T14:56:48.961896Z"
    }
   },
   "outputs": [],
   "source": [
    "# test the hypothesis that the mean age of 'Remain' voters \n",
    "# is lower than that of the 'Leave' voters, under \\alpha = 0.05.\n",
    "# Some code: credits to https://matthew-brett.github.io\n",
    "\n",
    "votes_in = df[df['brexit'] == 1]\n",
    "votes_out = df[df['brexit'] == 2]\n",
    "\n",
    "in_ages = list(votes_in[\"age\"])\n",
    "out_ages = list(votes_out[\"age\"])"
   ]
  },
  {
   "cell_type": "code",
   "execution_count": 138,
   "metadata": {
    "ExecuteTime": {
     "end_time": "2020-05-23T14:58:47.409947Z",
     "start_time": "2020-05-23T14:58:47.401968Z"
    }
   },
   "outputs": [],
   "source": [
    "def permutation_test(list1, list2):\n",
    "    \"\"\"\n",
    "    Parameters\n",
    "    ----------\n",
    "    list1 : list\n",
    "    \n",
    "    list2 : list\n",
    "    \"\"\"\n",
    "    alpha = 0.05\n",
    "    all_ages = list1 + list2\n",
    "    N_in = len(list1)\n",
    "    N_out = len(list2)\n",
    "\n",
    "    # \"test statistic\"\n",
    "    delta_obs = np.mean(in_ages) - np.mean(out_ages)\n",
    "    print(\"Observed difference in means: \", delta_obs)\n",
    "\n",
    "    # utility functions\n",
    "    def difference_in_means(combined_list):\n",
    "        \"\"\" Split shuffled combined group into two, return mean difference\"\"\"\n",
    "        group_in = combined_list[:N_in]\n",
    "        group_out = combined_list[N_in:]\n",
    "        return np.mean(group_in) - np.mean(group_out)\n",
    "\n",
    "    # Number of trials, K\n",
    "    K = 50000\n",
    "    deltas = []\n",
    "    for i in range(K):\n",
    "        # Shuffle the age data. This is equivalent to randomly reassigning the ages of the voters.\n",
    "        random.shuffle(all_ages)\n",
    "        delta_i = difference_in_means(all_ages)\n",
    "        deltas.append(delta_i)\n",
    "\n",
    "    # Plot the distribution of the deltas\n",
    "    sns.distplot(deltas, norm_hist=True,kde=False)\n",
    "    plt.xlabel(\"$\\Delta$\")\n",
    "    plt.ylabel(\"Distribution\")\n",
    "    \n",
    "    num_less_delta_obs = len ([d for d in deltas if d < delta_obs])\n",
    "    p_val = num_less_delta_obs/K\n",
    "    print (\"p-value:\", p_val)\n",
    "\n",
    "    if p_val < alpha:\n",
    "        print (\"Reject the Null Hypothesis (alpha = %s)\"%(alpha,))\n",
    "    else:\n",
    "        print (\"Fail to Reject the Null Hypothesis (alpha = %s)\"%(alpha,))"
   ]
  },
  {
   "cell_type": "code",
   "execution_count": 139,
   "metadata": {
    "ExecuteTime": {
     "end_time": "2020-05-23T14:59:34.153240Z",
     "start_time": "2020-05-23T14:58:47.832623Z"
    }
   },
   "outputs": [
    {
     "name": "stdout",
     "output_type": "stream",
     "text": [
      "Observed difference in means:  -3.6998380833655773\n",
      "p-value: 0.00014\n",
      "Reject the Null Hypothesis (alpha = 0.05)\n"
     ]
    },
    {
     "data": {
      "image/png": "[encoded data removed]",
      "text/plain": [
       "<Figure size 432x288 with 1 Axes>"
      ]
     },
     "metadata": {
      "needs_background": "light"
     },
     "output_type": "display_data"
    }
   ],
   "source": [
    "permutation_test(in_ages, out_ages)"
   ]
  },
  {
   "cell_type": "code",
   "execution_count": 140,
   "metadata": {
    "ExecuteTime": {
     "end_time": "2020-05-23T14:59:34.274908Z",
     "start_time": "2020-05-23T14:59:34.265934Z"
    }
   },
   "outputs": [],
   "source": [
    "def get_proper_pvalue_1tailed(test_statistic, test_tailedness, pval_2tailed):\n",
    "    '''\n",
    "        Parameters\n",
    "        ----------\n",
    "        `test_statistic` : `float`\n",
    "            The calculated test statistic.\n",
    "        `test_tailedness` : `{\"less\", \"greater\"}`\n",
    "            A string indicating whether the test is a left-tailed test (`\"less\"`)\n",
    "            or a right-tailed test (`\"greater\"`).\n",
    "        `pval_2tailed` : `float`\n",
    "            The two-tailed p-value reported by a hypothesis-testing function.\n",
    "            Please check the function's documentation to determine whether it\n",
    "            reports a one-tailed or a two-tailed p-value.\n",
    "\n",
    "        Returns\n",
    "        -------\n",
    "        `pval_1tailed` : `float`\n",
    "            The proper one-tailed p-value to use with your one-tailed hypothesis test.\n",
    "    '''\n",
    "    # Check if specified test_tailedness is only from the permissible set {\"less\", \"greater\"}\n",
    "    if test_tailedness not in {\"less\", \"greater\"}:\n",
    "        raise ValueError(\"Specified tail of test must either be 'less' (left-tailed) or 'greater' (right-tailed).\")\n",
    "    \n",
    "    # Now that's out of the way:\n",
    "    if test_statistic == 0.0:\n",
    "        pval_1tailed = 0.5\n",
    "    if (test_statistic > 0.0 and test_tailedness == \"greater\") or (test_statistic < 0.0 and test_tailedness == \"less\"):\n",
    "        pval_1tailed = 0.5 * pval_2tailed\n",
    "    if (test_statistic < 0.0 and test_tailedness == \"greater\") or (test_statistic > 0.0 and test_tailedness == \"less\"):\n",
    "        pval_1tailed = 1.0 - 0.5 * pval_2tailed\n",
    "    return pval_1tailed"
   ]
  },
  {
   "cell_type": "code",
   "execution_count": 141,
   "metadata": {
    "ExecuteTime": {
     "end_time": "2020-05-23T14:59:34.397587Z",
     "start_time": "2020-05-23T14:59:34.390600Z"
    }
   },
   "outputs": [],
   "source": [
    "def t_test_unpaired(class_mean_0, class_mean_1):\n",
    "    \"\"\"\n",
    "    Parameters\n",
    "    ----------\n",
    "    class_mean_0 : list\n",
    "    \n",
    "    class_mean_1 : list\n",
    "    \"\"\"\n",
    "    # Define required quantities\n",
    "    alpha = 0.05\n",
    "    N1 = len(class_mean_1)\n",
    "    N2 = len(class_mean_0)\n",
    "    x1 = np.mean(class_mean_1)\n",
    "    x2 = np.mean(class_mean_0)\n",
    "    s1 = np.std(class_mean_1, ddof=1)\n",
    "    s2 = np.std(class_mean_0, ddof=1)\n",
    "    V1 = s1*s1/N1\n",
    "    V2 = s2*s2/N2\n",
    "    S = np.sqrt(V1 + V2)\n",
    "    df = int((V1 + V2)**2 / (V1**2 / (N1 - 1) + V2**2 / (N2 - 1)))\n",
    "    delta_12 = 0.0\n",
    "\n",
    "    # Compute and display test statistic Remember that we're doing a right-tailed test!\n",
    "    t_stat = (x1 - x2 - delta_12) / S\n",
    "    print (\"Test statistic: \", t_stat)\n",
    "\n",
    "    # Shortcut: use ttest_ind. \n",
    "    t_stat, p_val = sp.stats.ttest_ind(class_mean_1, class_mean_0, equal_var=False)\n",
    "    print (\"p-value (two-tailed): \", p_val)\n",
    "\n",
    "    # Since the test is a right-tailed test (see alternative hypothesis above!), we specify \"greater\" below.\n",
    "    pval_1tailed = get_proper_pvalue_1tailed(test_statistic=t_stat, test_tailedness=\"greater\", pval_2tailed=p_val)\n",
    "    print (\"p-value (right-tailed): \", pval_1tailed)"
   ]
  },
  {
   "cell_type": "code",
   "execution_count": 142,
   "metadata": {
    "ExecuteTime": {
     "end_time": "2020-05-23T14:59:34.522265Z",
     "start_time": "2020-05-23T14:59:34.516263Z"
    }
   },
   "outputs": [
    {
     "name": "stdout",
     "output_type": "stream",
     "text": [
      "Test statistic:  3.6836834632783066\n",
      "p-value (two-tailed):  0.00024021875755525818\n",
      "p-value (right-tailed):  0.00012010937877762909\n"
     ]
    }
   ],
   "source": [
    "t_test_unpaired(in_ages, out_ages)"
   ]
  },
  {
   "cell_type": "code",
   "execution_count": 153,
   "metadata": {
    "ExecuteTime": {
     "end_time": "2020-05-23T15:13:31.940939Z",
     "start_time": "2020-05-23T15:13:31.936337Z"
    }
   },
   "outputs": [],
   "source": [
    "choles = pd.read_csv('Session6cFiles/Cholesterol.csv')"
   ]
  },
  {
   "cell_type": "code",
   "execution_count": 156,
   "metadata": {
    "ExecuteTime": {
     "end_time": "2020-05-23T15:14:00.675152Z",
     "start_time": "2020-05-23T15:14:00.669131Z"
    }
   },
   "outputs": [],
   "source": [
    "def t_test_paired(series1, series2):\n",
    "    \"\"\"\n",
    "    Parameters\n",
    "    ----------\n",
    "    series1 : pandas series\n",
    "    \n",
    "    series2 : pandas series\n",
    "    \"\"\"\n",
    "    diffs = list(series1 - series2)\n",
    "    N = len(diffs)\n",
    "    df = N - 1\n",
    "\n",
    "    # Average difference and standard deviation\n",
    "    x_12 = np.mean(diffs)\n",
    "    s_d = np.std(diffs, ddof=1)\n",
    "\n",
    "    # Approach 3: shortcut!\n",
    "    t_stat, p_val = sp.stats.ttest_rel(series1, series2)\n",
    "    print(\"Test statistic: \", t_stat)\n",
    "    print (\"p-value (two-tailed): \", p_val)\n",
    "\n",
    "    # Left-tailed test -> use \"less\" below.\n",
    "    pval_1tailed = get_proper_pvalue_1tailed(test_statistic=t_stat, test_tailedness=\"less\", pval_2tailed=p_val)\n",
    "    print (\"p-value (left-tailed): \", pval_1tailed)"
   ]
  },
  {
   "cell_type": "code",
   "execution_count": 157,
   "metadata": {
    "ExecuteTime": {
     "end_time": "2020-05-23T15:14:00.971929Z",
     "start_time": "2020-05-23T15:14:00.966970Z"
    }
   },
   "outputs": [
    {
     "name": "stdout",
     "output_type": "stream",
     "text": [
      "Test statistic:  -3.78090274293469\n",
      "p-value (two-tailed):  0.0014914189618696698\n",
      "p-value (left-tailed):  0.0007457094809348349\n"
     ]
    }
   ],
   "source": [
    "t_test_paired(choles[\"After8weeks\"], choles[\"After4weeks\"])"
   ]
  },
  {
   "cell_type": "markdown",
   "metadata": {},
   "source": [
    "# Classification Tests"
   ]
  },
  {
   "cell_type": "code",
   "execution_count": 171,
   "metadata": {
    "ExecuteTime": {
     "end_time": "2020-05-23T15:33:16.785572Z",
     "start_time": "2020-05-23T15:33:16.779551Z"
    }
   },
   "outputs": [],
   "source": [
    "icecream_df = pd.read_csv('Session6cFiles/IceCream.csv')\n",
    "#  test whether the three flavors *do not* have equal \"market share\" among high school students."
   ]
  },
  {
   "cell_type": "code",
   "execution_count": 174,
   "metadata": {
    "ExecuteTime": {
     "end_time": "2020-05-23T15:33:38.865321Z",
     "start_time": "2020-05-23T15:33:38.860334Z"
    }
   },
   "outputs": [],
   "source": [
    "def chi_sq_test(df, classes):\n",
    "    \"\"\"\n",
    "    Parameters\n",
    "    ----------\n",
    "    df : pandas dataframe\n",
    "    \n",
    "    classes : str\n",
    "    \"\"\"\n",
    "    series = df[classes]\n",
    "    N = len(series)\n",
    "\n",
    "    unique_classes = len(df[classes].unique())\n",
    "\n",
    "    # Null: equal between classes\n",
    "    E = [N/unique_classes, N/unique_classes, N/unique_classes]\n",
    "\n",
    "    # Segment the sample according to flavor preference.\n",
    "    O = list(series.value_counts())\n",
    "    chisq, p_val = sp.stats.chisquare(O, E)\n",
    "    print(\"Chi-Squared Statistic: %s\"%(chisq,))\n",
    "    print(\"p-value: %s\"%(p_val,))"
   ]
  },
  {
   "cell_type": "code",
   "execution_count": 175,
   "metadata": {
    "ExecuteTime": {
     "end_time": "2020-05-23T15:33:39.554298Z",
     "start_time": "2020-05-23T15:33:39.550305Z"
    }
   },
   "outputs": [
    {
     "name": "stdout",
     "output_type": "stream",
     "text": [
      "Chi-Squared Statistic: 18.97\n",
      "p-value: 7.598307042939823e-05\n"
     ]
    }
   ],
   "source": [
    "chi_sq_test(icecream_df, 'ice_cream')"
   ]
  },
  {
   "cell_type": "code",
   "execution_count": 184,
   "metadata": {
    "ExecuteTime": {
     "end_time": "2020-05-23T15:43:46.517224Z",
     "start_time": "2020-05-23T15:43:46.503790Z"
    }
   },
   "outputs": [],
   "source": [
    "ct = pd.crosstab(icecream_df[\"female\"], icecream_df[\"ice_cream\"])\n",
    "# For this case, null hypothesis = sex and icecream preference are independent"
   ]
  },
  {
   "cell_type": "code",
   "execution_count": 185,
   "metadata": {
    "ExecuteTime": {
     "end_time": "2020-05-23T15:43:46.791209Z",
     "start_time": "2020-05-23T15:43:46.786888Z"
    }
   },
   "outputs": [],
   "source": [
    "def chi_sq_independence(ct):\n",
    "    \"\"\"\n",
    "    Parameters\n",
    "    ----------\n",
    "    ct : pandas dataframe\n",
    "        specifically cross-tab of feature and variable of interest\n",
    "    \"\"\"\n",
    "    chi2_stat, p_val, dof, ex = sp.stats.chi2_contingency(ct)\n",
    "    print(\"Chi-Squared Statistic: %s\"%(chi2_stat,))\n",
    "    print(\"p-value: %s\"%(p_val,))"
   ]
  },
  {
   "cell_type": "code",
   "execution_count": 186,
   "metadata": {
    "ExecuteTime": {
     "end_time": "2020-05-23T15:44:00.415959Z",
     "start_time": "2020-05-23T15:44:00.410975Z"
    }
   },
   "outputs": [
    {
     "name": "stdout",
     "output_type": "stream",
     "text": [
      "Chi-Squared Statistic: 4.57653239842952\n",
      "p-value: 0.10144219001975929\n"
     ]
    }
   ],
   "source": [
    "chi_sq_independence(ct)"
   ]
  },
  {
   "cell_type": "markdown",
   "metadata": {},
   "source": [
    "# One-Way Analysis of Variance (One-Way ANOVA)"
   ]
  },
  {
   "cell_type": "code",
   "execution_count": 202,
   "metadata": {
    "ExecuteTime": {
     "end_time": "2020-05-23T16:11:38.951885Z",
     "start_time": "2020-05-23T16:11:38.943395Z"
    }
   },
   "outputs": [],
   "source": [
    "tomato_df = pd.read_csv(\"Session6cFiles/Tomato1.csv\")\n",
    "# Segment the root dead weight according to Genotype\n",
    "genotypes = tomato_df.groupby(\"Genotype\")\n",
    "m82 = genotypes.get_group(\"M82\")[\"RootDwt\"]\n",
    "line_a = genotypes.get_group(\"Line A\")[\"RootDwt\"]\n",
    "line_b = genotypes.get_group(\"Line B\")[\"RootDwt\"]"
   ]
  },
  {
   "cell_type": "code",
   "execution_count": 203,
   "metadata": {
    "ExecuteTime": {
     "end_time": "2020-05-23T16:11:39.744551Z",
     "start_time": "2020-05-23T16:11:39.738566Z"
    }
   },
   "outputs": [],
   "source": [
    "def one_way_anova(class_a, class_b, class_c):\n",
    "    # Test for equal variances\n",
    "    # Brown-Forsythe test uses the median (Levene test proper uses the mean)\n",
    "    W, p_brown_forsythe = levene(class_a, class_b, class_c, center=\"median\")\n",
    "    print (\"Brown-Forsythe p-value: \", p_brown_forsythe)\n",
    "\n",
    "    alpha = 0.05\n",
    "    if p_brown_forsythe > alpha:\n",
    "        print (\"Fail to reject the null hypothesis of equal variances.\")\n",
    "        print (\"Can go ahead with One-Way ANOVA.\")\n",
    "\n",
    "        f_stat, p_value = f_oneway(class_a, class_b, class_c)\n",
    "        print(\"F-statistic: %s; p-value: %s\"%(f_stat, p_value))\n",
    "    else:\n",
    "        print (\"Reject the null hypothesis of equal variances.\")\n",
    "        print (\"Cannot go ahead with One-Way ANOVA.\")"
   ]
  },
  {
   "cell_type": "code",
   "execution_count": 204,
   "metadata": {
    "ExecuteTime": {
     "end_time": "2020-05-23T16:11:40.282071Z",
     "start_time": "2020-05-23T16:11:40.277112Z"
    }
   },
   "outputs": [
    {
     "name": "stdout",
     "output_type": "stream",
     "text": [
      "Brown-Forsythe p-value:  0.6124985914548331\n",
      "Fail to reject the null hypothesis of equal variances.\n",
      "Can go ahead with One-Way ANOVA.\n",
      "F-statistic: 8.297734116849748; p-value: 0.0009185239581270862\n"
     ]
    }
   ],
   "source": [
    "one_way_anova(m82, line_a, line_b)"
   ]
  },
  {
   "cell_type": "code",
   "execution_count": null,
   "metadata": {},
   "outputs": [],
   "source": []
  }
 ],
 "metadata": {
  "kernelspec": {
   "display_name": "Python 3",
   "language": "python",
   "name": "python3"
  },
  "language_info": {
   "codemirror_mode": {
    "name": "ipython",
    "version": 3
   },
   "file_extension": ".py",
   "mimetype": "text/x-python",
   "name": "python",
   "nbconvert_exporter": "python",
   "pygments_lexer": "ipython3",
   "version": "3.7.1"
  },
  "varInspector": {
   "cols": {
    "lenName": 16,
    "lenType": 16,
    "lenVar": 40
   },
   "kernels_config": {
    "python": {
     "delete_cmd_postfix": "",
     "delete_cmd_prefix": "del ",
     "library": "var_list.py",
     "varRefreshCmd": "print(var_dic_list())"
    },
    "r": {
     "delete_cmd_postfix": ") ",
     "delete_cmd_prefix": "rm(",
     "library": "var_list.r",
     "varRefreshCmd": "cat(var_dic_list()) "
    }
   },
   "types_to_exclude": [
    "module",
    "function",
    "builtin_function_or_method",
    "instance",
    "_Feature"
   ],
   "window_display": false
  }
 },
 "nbformat": 4,
 "nbformat_minor": 2
}
